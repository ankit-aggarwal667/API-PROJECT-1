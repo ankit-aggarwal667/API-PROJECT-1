{
 "cells": [
  {
   "cell_type": "markdown",
   "metadata": {},
   "source": [
    "# PROJECT DETAILS\n",
    "\n",
    "### For this project, we are using the Zomato API.\n",
    "### Zomato APIs give you access to the freshest and most exhaustive information for over 1.5 million restaurants across 10,000 cities globally.\n",
    "\n",
    "## Our Motivation for using Zomato API\n",
    "\n",
    "### By Collecting the data using Zomato API one can recommend restaurants on the basis of user’s affinity to specific cuisines, establishment types, locations, and price bands.\n",
    "### We can find out whether restaurant support online reservation or not.\n",
    "### We can find what is the most popular and/ or exclusive/new at a given location & time."
   ]
  },
  {
   "cell_type": "code",
   "execution_count": null,
   "metadata": {},
   "outputs": [],
   "source": []
  },
  {
   "cell_type": "code",
   "execution_count": null,
   "metadata": {},
   "outputs": [],
   "source": []
  },
  {
   "cell_type": "markdown",
   "metadata": {},
   "source": [
    "## (A) Zomato cuisine problem details\n",
    "\n",
    "### Mexican cuisine began about 9,000 years ago, when agricultural communities such as the Maya formed, domesticating maize, creating the standard process of corn nixtamalization, and establishing their foodways.\n",
    "### You are a huge fan of ‘Mexican’ cuisine. Now using the Zomato API you want to analyse the best restaurant serving the Mexican Cuisine, their locations, and cost for two, etc.\n",
    "### There is a list of questions related to Mexican cuisines given in the next section."
   ]
  },
  {
   "cell_type": "code",
   "execution_count": null,
   "metadata": {},
   "outputs": [],
   "source": []
  },
  {
   "cell_type": "markdown",
   "metadata": {},
   "source": [
    "### Zomato Cuisine 1.1\n",
    "\n",
    "#### Fetch the cuisine_id of ‘Mexican’ cuisine using Zomato API.\n",
    "#### Print the cuisine_id.\n"
   ]
  },
  {
   "cell_type": "code",
   "execution_count": 1,
   "metadata": {},
   "outputs": [
    {
     "name": "stdout",
     "output_type": "stream",
     "text": [
      "73\n"
     ]
    }
   ],
   "source": [
    "import requests\n",
    "h={'user-key':'07adec2c50dd0fe4adee163b0fe1b35a'}\n",
    "response=requests.get('https://developers.zomato.com/api/v2.1/cities?q=DELHI',\n",
    "                      headers=h,params={'user-key':'07adec2c50dd0fe4adee163b0fe1b35a'})\n",
    "r=response.json()\n",
    "new_r=r['location_suggestions']\n",
    "for i in new_r:\n",
    "    new_id=i['id']\n",
    "    break\n",
    "response=requests.get('https://developers.zomato.com/api/v2.1/cuisines?city_id='+str(new_id),\n",
    "                      headers=h,params={'user-key':'07adec2c50dd0fe4adee163b0fe1b35a'})\n",
    "r=response.json()\n",
    "for i in r['cuisines']:\n",
    "    new=i['cuisine']\n",
    "    if new['cuisine_name']=='Mexican':\n",
    "        print(new['cuisine_id'])"
   ]
  },
  {
   "cell_type": "code",
   "execution_count": null,
   "metadata": {},
   "outputs": [],
   "source": []
  },
  {
   "cell_type": "markdown",
   "metadata": {},
   "source": [
    "### Zomato Cuisine 1.2\n",
    "\n",
    "#### Fetch the entityid and entitytype of place Connaught Place.\n",
    "#### Print the entityid and entitytype,\n"
   ]
  },
  {
   "cell_type": "code",
   "execution_count": 3,
   "metadata": {},
   "outputs": [
    {
     "name": "stdout",
     "output_type": "stream",
     "text": [
      "subzone 104\n"
     ]
    }
   ],
   "source": [
    "import requests\n",
    "h={'user-key':'07adec2c50dd0fe4adee163b0fe1b35a'}\n",
    "response=requests.get('https://developers.zomato.com/api/v2.1/locations?query=Connaught%20Place',\n",
    "                      headers=h,params={'user-key':'07adec2c50dd0fe4adee163b0fe1b35a'})\n",
    "r=response.json()\n",
    "new=r['location_suggestions']\n",
    "new_values=new[0]\n",
    "print(new_values['entity_type'],new_values['entity_id'])"
   ]
  },
  {
   "cell_type": "code",
   "execution_count": null,
   "metadata": {},
   "outputs": [],
   "source": []
  },
  {
   "cell_type": "markdown",
   "metadata": {},
   "source": [
    "### Zomato Cuisine 1.3\n",
    "\n",
    "#### Fetch the top 10 best-rated restaurant serving ‘Mexican’ cuisine present in Connaught Place.\n",
    "#### Print the restaurant name, user rating and restaurant id.\n"
   ]
  },
  {
   "cell_type": "code",
   "execution_count": 4,
   "metadata": {},
   "outputs": [
    {
     "name": "stdout",
     "output_type": "stream",
     "text": [
      "38 Barracks 4.7 18241537\n",
      "Station Bar 4.6 18851371\n",
      "The Luggage Room Kitchen And Bar 4.6 18337893\n",
      "Chili's Grill & Bar 4.6 18537536\n",
      "Tamasha 4.5 18238278\n",
      "The Junkyard Cafe 4.5 313256\n",
      "Odeon Social 4.5 18246991\n",
      "Ministry Of Beer 4.4 18418277\n",
      "The Darzi Bar & Kitchen 4.4 18423151\n",
      "Local 4.4 18382360\n"
     ]
    }
   ],
   "source": [
    "import requests\n",
    "h={'user-key':'07adec2c50dd0fe4adee163b0fe1b35a'}\n",
    "response=requests.get('https://developers.zomato.com/api/v2.1/search?'+\n",
    "                      'entity_id=104&entity_type=subzone&count=10&cuisines=73&sort=rating&order=desc',\n",
    "                      headers=h,params={'user-key':'07adec2c50dd0fe4adee163b0fe1b35a'})\n",
    "r=response.json()\n",
    "n=r['restaurants']\n",
    "for i in n:\n",
    "    new_val=i['restaurant']\n",
    "    name=new_val['name']\n",
    "    rating=new_val['user_rating']['aggregate_rating']\n",
    "    res_id=new_val['id']\n",
    "    print(name,rating,res_id)\n",
    "    "
   ]
  },
  {
   "cell_type": "code",
   "execution_count": null,
   "metadata": {},
   "outputs": [],
   "source": []
  },
  {
   "cell_type": "markdown",
   "metadata": {},
   "source": [
    "### Zomato Cuisine 1.4\n",
    "\n",
    "#### Fetch the category id of category type ‘Cafes’ using Zomato API.\n",
    "#### Print the category_id."
   ]
  },
  {
   "cell_type": "code",
   "execution_count": 2,
   "metadata": {},
   "outputs": [
    {
     "name": "stdout",
     "output_type": "stream",
     "text": [
      "6\n"
     ]
    }
   ],
   "source": [
    "import requests\n",
    "h={'user-key':'07adec2c50dd0fe4adee163b0fe1b35a'}\n",
    "response=requests.get('https://developers.zomato.com/api/v2.1/categories',\n",
    "                      headers=h,params={'user-key':'07adec2c50dd0fe4adee163b0fe1b35a'})\n",
    "r=response.json()\n",
    "new=r['categories']\n",
    "for i in new:\n",
    "    new_val=i['categories']\n",
    "    if new_val['name']=='Cafes':\n",
    "        print(new_val['id'])"
   ]
  },
  {
   "cell_type": "code",
   "execution_count": null,
   "metadata": {},
   "outputs": [],
   "source": []
  },
  {
   "cell_type": "markdown",
   "metadata": {},
   "source": [
    "### Zomato Cuisine 1.5\n",
    "\n",
    "#### Fetch the best-rated restaurant for ‘Mexican’ cuisine with category type ‘ Cafes’ present in Connaught Place using Zomato API.\n",
    "#### Print the restaurant name, user rating and restaurant id."
   ]
  },
  {
   "cell_type": "code",
   "execution_count": 5,
   "metadata": {},
   "outputs": [
    {
     "name": "stdout",
     "output_type": "stream",
     "text": [
      "38 Barracks 4.7 18241537\n",
      "Xero Degrees 4.3 18729557\n",
      "Chaayos 4.1 18237315\n",
      "Rooh Burger Cafe 4.0 18600858\n",
      "The Art House Bar n Cafe 4.0 18863766\n",
      "Cafe Delhi Heights 4.0 18579363\n",
      "The Chai Story 3.9 18445782\n",
      "Cafe Coffee Day - The Square 3.8 303034\n"
     ]
    }
   ],
   "source": [
    "import requests\n",
    "h={'user-key':'07adec2c50dd0fe4adee163b0fe1b35a'}\n",
    "response=requests.get('https://developers.zomato.com/api/v2.1/categories',\n",
    "                      headers=h,params={'user-key':'07adec2c50dd0fe4adee163b0fe1b35a'})\n",
    "r=response.json()\n",
    "n=r['categories']\n",
    "for i in n:\n",
    "    new_val=i['categories']\n",
    "    if new_val['name']=='Cafes':\n",
    "        cat_id=new_val['id']\n",
    "response=requests.get('https://developers.zomato.com/api/v2.1/search?entity_id=104&entity_type=subzone&count=10&'+\n",
    "                      'cuisines=73&category=6&sort=rating&order=desc',\n",
    "                      headers=h,params={'user-key':'07adec2c50dd0fe4adee163b0fe1b35a'})\n",
    "r=response.json()\n",
    "n=r['restaurants']\n",
    "for i in n:\n",
    "    new_val=i['restaurant']\n",
    "    name=new_val['name']\n",
    "    rating=new_val['user_rating']['aggregate_rating']\n",
    "    res_id=new_val['id']\n",
    "    print(name,rating,res_id)"
   ]
  },
  {
   "cell_type": "code",
   "execution_count": null,
   "metadata": {},
   "outputs": [],
   "source": []
  },
  {
   "cell_type": "markdown",
   "metadata": {},
   "source": [
    "### Zomato Cuisine 1.7\n",
    "\n",
    "#### Fetch the latest review of the best-rated restaurant for ‘Mexican’ cuisine with Category type ‘Cafes’ present in Connaught Place using Zomato API.\n",
    "#### Print the name of user ,user rating and review text.\n",
    "\n",
    "### Note :\n",
    "#### Due to limitation of basic API plan it, can only fetch 5 latest review"
   ]
  },
  {
   "cell_type": "code",
   "execution_count": 6,
   "metadata": {},
   "outputs": [
    {
     "name": "stdout",
     "output_type": "stream",
     "text": [
      "Jasmeet Singh 4 It's an awesome place to hang out with friends. There is live music but it does not hinder in you talking to your friends.  The food is amazing and the staff really takes care of you. Our server Madan was courteous and friendly.  The space a little tight but not congested to bring down the experience.  Would definitely recommend this place to friends.\n",
      "Shreya Dutta - StarWords India 5 I visit Delhi occasionally and go for shopping around Connaught Place. My friend had brought me to this restaurant to try out their Sunday brunch one fine sunny afternoon. The starters were really good. I couldn't help myself from taking multiple servings. The main course was decent but can improve further. The desserts were to die for. I was also happy with the mocktail as it was really refreshing to sip on in this hot weather. At a price of INR 999 + GST for each person, I think it's a good place to dine in. Next time, I will try out their signature dishes from the ala carte menu.  #starwordsindia\n",
      "Ankur Gupta | FoodMaafia 5 #38_Barracks Located in CP, Delhi . . Lovely outlet with amazing ambience. They serves amazing Cocktails and food as well. I visited this place few days back and had good time with my friends. . . ° Lovely ambience ° Amazing cocktails ° Comfortable seating ° friendly staff . Give a try to this place and surely you'll find this place awesome. . Thanks for visiting my feed Ankur Gupta\n",
      "Mahika 5 38 barracks was a wonderful place and its ambience was totally a lit, the service was also lovely as they have one of the most courteous staff that I have ever seen in past few days and they were damn good in their jobs, we try some of their signature dishes along with some pizza and main course and it was way too delicious l, overall one happy experience with this place 🔥🔥🔥🔥🔥🔥\n",
      "Utsuk Sharma 5 The staff is ridiculously polite, courteous and attentive. The ambience and the staff alone deserve the 5 stars. Very family-oriented place. Saw fewer young people here that weren’t here with families. Lovely decor. Seats weren’t very comfortable  on the sofa though, less relaxing, more leaning forward. Recommend opting for a high chair table.  Stay away from the Serrano chicken- it isn’t made the way it is supposed to and tasted more like cornflour coated fried chunks with no flavor. Ordered a smoked BBQ chicken instead and told them to make it extra spicy to mask the sweetness of the BBQ sauce. It was excellent. Presentation and taste, both on point. Portions weren’t huge, but respectable. Would absolutely visit again.\n"
     ]
    }
   ],
   "source": [
    "import requests\n",
    "h={'user-key':'07adec2c50dd0fe4adee163b0fe1b35a'}\n",
    "response=requests.get('https://developers.zomato.com/api/v2.1/search?entity_id=104&entity_type=subzone&'+\n",
    "                      'count=5&cuisines=73&category=6&sort=rating&order=desc',\n",
    "                      headers=h,params={'user-key':'07adec2c50dd0fe4adee163b0fe1b35a'})\n",
    "r=response.json()\n",
    "n=r['restaurants'][0]\n",
    "new=n['restaurant']['all_reviews']\n",
    "new=new['reviews']\n",
    "for i in new:\n",
    "    new_val=i['review']\n",
    "    name=new_val['user']['name']\n",
    "    rating=new_val['rating']\n",
    "    text=new_val['review_text']\n",
    "    print(name,rating,text)\n"
   ]
  },
  {
   "cell_type": "code",
   "execution_count": null,
   "metadata": {},
   "outputs": [],
   "source": []
  },
  {
   "cell_type": "markdown",
   "metadata": {},
   "source": [
    "## (B) Zomato restaurant Problem Detail\n",
    "\n",
    "### 736 AD is Brick-walled lounge bar serving international dishes and a range of cocktails and shooters.\n",
    "### You have heard from your friends that restaurant 736 A.D is quite good. So Now you want to extract the information related to restaurant 736 A.D using Zomato API.\n",
    "### There is a list of questions related to restaurant 736 AD given in the next section."
   ]
  },
  {
   "cell_type": "code",
   "execution_count": null,
   "metadata": {},
   "outputs": [],
   "source": []
  },
  {
   "cell_type": "markdown",
   "metadata": {},
   "source": [
    "### Zomato Restaurant 2.1\n",
    "\n",
    "#### Fetch the details of restaurant 736 AD using Zomato API.\n",
    "#### Print the user rating, average cost for two, cuisines and address of 736 AD."
   ]
  },
  {
   "cell_type": "code",
   "execution_count": 7,
   "metadata": {},
   "outputs": [
    {
     "name": "stdout",
     "output_type": "stream",
     "text": [
      "4.3\n",
      "1400\n",
      "North Indian, Continental, Italian, Chinese, Momos\n",
      "G-15/B, Vijay Nagar, New Delhi\n"
     ]
    }
   ],
   "source": [
    "import requests\n",
    "h={'user-key':'07adec2c50dd0fe4adee163b0fe1b35a'}\n",
    "response=requests.get('https://developers.zomato.com/api/v2.1/restaurant?res_id=18241524',\n",
    "                      headers=h,params={'user-key':'07adec2c50dd0fe4adee163b0fe1b35a'})\n",
    "r=response.json()\n",
    "new_val=r\n",
    "rating=new_val['user_rating']['aggregate_rating']\n",
    "average_cost=new_val['average_cost_for_two']\n",
    "cuis=new_val['cuisines']\n",
    "address=new_val['location']['address']\n",
    "print(rating)\n",
    "print(average_cost)\n",
    "print(cuis)\n",
    "print(address)\n"
   ]
  },
  {
   "cell_type": "code",
   "execution_count": null,
   "metadata": {},
   "outputs": [],
   "source": []
  },
  {
   "cell_type": "markdown",
   "metadata": {},
   "source": [
    "### Zomato Restaurant 2.2\n",
    "\n",
    "#### Find out whether online table reservation is supported in 736 AD or not using Zomato API.\n",
    "#### Print 'yes' if online table reservation is supported else 'no'\n",
    "### Note :\n",
    "\n",
    "#### In Zomato response JSON. 1=Yes and 0 = No"
   ]
  },
  {
   "cell_type": "code",
   "execution_count": 8,
   "metadata": {},
   "outputs": [
    {
     "name": "stdout",
     "output_type": "stream",
     "text": [
      "yes\n"
     ]
    }
   ],
   "source": [
    "import requests\n",
    "h={'user-key':'07adec2c50dd0fe4adee163b0fe1b35a'}\n",
    "response=requests.get('https://developers.zomato.com/api/v2.1/restaurant?res_id=18241524',\n",
    "                      headers=h,params={'user-key':'07adec2c50dd0fe4adee163b0fe1b35a'})\n",
    "r=response.json()\n",
    "new_val=r\n",
    "if new_val['is_table_reservation_supported']==1:\n",
    "    print('yes')\n",
    "else:\n",
    "    print('yes')"
   ]
  },
  {
   "cell_type": "code",
   "execution_count": null,
   "metadata": {},
   "outputs": [],
   "source": []
  },
  {
   "cell_type": "markdown",
   "metadata": {},
   "source": [
    "### Zomato Restaurant 2.3\n",
    "\n",
    "#### Fetch the latest review of restaurant 736 AD using Zomato API.\n",
    "#### Print the name of user ,user rating and review text.\n",
    "### Note :\n",
    "\n",
    "#### Due to limitation of basic API plan, it can only fetch 5 latest review"
   ]
  },
  {
   "cell_type": "code",
   "execution_count": 9,
   "metadata": {},
   "outputs": [
    {
     "name": "stdout",
     "output_type": "stream",
     "text": [
      "Jhalak Mittal 4 736 AD is one of the best option in hudson lane for parties. It has economical and tasty food , good DJ, spacious seating areas and fast service. The quantity of good was also good. You can even spend your time here playing foosball. We ordered variety of food i.e. panner chilli, spring rolls, white sauce pasta , delhi masala pizza, paneer burger, garlic naan and paneer lababdar. Chilli paneer was very nicely cooked and had that spiciness, talking about spring rolls it was crispy and tasty. The burger was not so good ,it was kinda dry and tasteless.\n",
      "Akshay Chaudhary 3 We tried afghani chicken, white pasta , and drums of heaven. The pasta and Afghani chicken were fine. I didn't like drums of heaven as it had a totally different taste what from what I expected. The ambience was good with live music could have been better with the taste of food.\n",
      "Tanya Gupta 3 I like that ambience ,hookah and food was fine. I love the food flavours but it is pocket friendly also but the main thing is you have to wait so much for your order. No space for dance Service is very poor They didn't came to ask about water and place wrong order also.  Other wise decoration is fine .\n",
      "Roshni Choudhary 4 A nice place to celebrate birthdays with different tastes of focus available and a good collection of drinks in the bar. Lighted dimly with yellowish tint, it provides good atmosphere if you love drinking!!!\n",
      "KaRtik JinDal 1 Located near metro station GTB nagar, just a 10 mins walk. This cafe is knows for its awesome ambience and food. But when we visited this place, these all were rumours.  Dishes are overpriced and the quantity is too low, for instance one white sauce pasta had only 5-6 spoons of pasta, one chicken tikka only with 4 pieces.  The Service is worst, and the cutlery is shit. This place is over hyped and didn't have working air conditioning system.  If zomato offers me negative remarks, I will give -4 atleast. Do come at your own risk.\n"
     ]
    }
   ],
   "source": [
    "import requests\n",
    "h={'user-key':'07adec2c50dd0fe4adee163b0fe1b35a'}\n",
    "response=requests.get('https://developers.zomato.com/api/v2.1/restaurant?res_id=18241524',\n",
    "                      headers=h,params={'user-key':'07adec2c50dd0fe4adee163b0fe1b35a'})\n",
    "r=response.json()\n",
    "new_val=r\n",
    "total=new_val['all_reviews']['reviews']\n",
    "for i in range(5):\n",
    "    i=total[i]\n",
    "    val=i['review']\n",
    "    name=val['user']['name']\n",
    "    rating=val['rating']\n",
    "    text=val['review_text']\n",
    "    print(name,rating,text)"
   ]
  },
  {
   "cell_type": "code",
   "execution_count": null,
   "metadata": {},
   "outputs": [],
   "source": []
  },
  {
   "cell_type": "markdown",
   "metadata": {},
   "source": [
    "## (C) Zomato Distance Problem\n",
    "\n",
    "### Distance is also a very important factor while selecting a restaurant. Suppose you are at Coding Ninjas and you want to select the restaurant which is near to you using Zomato API.\n",
    "### Note down the latitude and longitude of Coding Ninjas using Google Maps\n",
    "### There is a list of questions related to restaurant near me given in the next section."
   ]
  },
  {
   "cell_type": "code",
   "execution_count": null,
   "metadata": {},
   "outputs": [],
   "source": []
  },
  {
   "cell_type": "markdown",
   "metadata": {},
   "source": [
    "### Zomato distance 3.1\n",
    "\n",
    "#### Fetch the cuisine_id of of cuisine ‘BBQ’ using Zomato API.\n",
    "#### Print the cuisine_id"
   ]
  },
  {
   "cell_type": "code",
   "execution_count": 1,
   "metadata": {},
   "outputs": [
    {
     "name": "stdout",
     "output_type": "stream",
     "text": [
      "193\n"
     ]
    }
   ],
   "source": [
    "import requests\n",
    "h={'user-key':'07adec2c50dd0fe4adee163b0fe1b35a'}\n",
    "response=requests.get('https://developers.zomato.com/api/v2.1/cities?q=DELHI',\n",
    "                      headers=h,params={'user-key':'07adec2c50dd0fe4adee163b0fe1b35a'})\n",
    "r=response.json()\n",
    "new_r=r['location_suggestions']\n",
    "for i in new_r:\n",
    "    new_id=i['id']\n",
    "    break\n",
    "response=requests.get('https://developers.zomato.com/api/v2.1/cuisines?city_id='+str(new_id),\n",
    "                      headers=h,params={'user-key':'07adec2c50dd0fe4adee163b0fe1b35a'})\n",
    "r=response.json()\n",
    "for i in r['cuisines']:\n",
    "    new=i['cuisine']\n",
    "    if new['cuisine_name']=='BBQ':\n",
    "        print(new['cuisine_id'])"
   ]
  },
  {
   "cell_type": "code",
   "execution_count": null,
   "metadata": {},
   "outputs": [],
   "source": []
  },
  {
   "cell_type": "markdown",
   "metadata": {},
   "source": [
    "### Zomato distance 3.2\n",
    "\n",
    "#### Fetch the list of the top 10 restaurants serving cuisine ‘BBQ’ which are nearest to Coding Ninjas.\n",
    "#### Print the restaurant name, user rating, restaurant id and locality in which restaurant is present."
   ]
  },
  {
   "cell_type": "code",
   "execution_count": 11,
   "metadata": {},
   "outputs": [
    {
     "name": "stdout",
     "output_type": "stream",
     "text": [
      "Themis Barbecue House 4.6 18204820 Netaji Subhash Place\n",
      "Barbeque Nation 4.2 9561 Netaji Subhash Place\n",
      "New Bombay Bar-Be-Que 3.5 5303 Prashant Vihar\n",
      "Changezi Bar-be-que & Mughlai 0 19050115 Rohini\n",
      "Wow! Chicken 0 18998624 Rohini\n",
      "7teen BBQ Bistro Bnq 3.9 18595610 Moti Nagar\n",
      "Pishori Chicken 0 19061375 Kirti Nagar\n",
      "Hungerz Point 3.5 19046273 Kamla Nagar\n",
      "Wow! Chicken 0 18996355 Paschim Vihar\n",
      "Jungle Jamboree 4.2 18384149 Rajouri Garden\n"
     ]
    }
   ],
   "source": [
    "import requests\n",
    "h={'user-key':'07adec2c50dd0fe4adee163b0fe1b35a'}\n",
    "response=requests.get('https://developers.zomato.com/api/v2.1/search?count=10&lat=28.697776&lon=77.1406&'+\n",
    "                      'cuisines=193&sort=real_distance&order=asc',\n",
    "                      headers=h,params={'user-key':'07adec2c50dd0fe4adee163b0fe1b35a'})\n",
    "r=response.json()\n",
    "n=r['restaurants']\n",
    "for i in n:\n",
    "    new_val=i['restaurant']\n",
    "    name=new_val['name']\n",
    "    rating=new_val['user_rating']['aggregate_rating']\n",
    "    res_id=new_val['id']\n",
    "    locality=new_val['location']['locality']\n",
    "    print(name,rating,res_id,locality)\n"
   ]
  },
  {
   "cell_type": "code",
   "execution_count": null,
   "metadata": {},
   "outputs": [],
   "source": []
  },
  {
   "cell_type": "markdown",
   "metadata": {},
   "source": [
    "### Zomato distance 3.3\n",
    "\n",
    "#### Fetch the latest review of the restaurant serving cuisine ‘BBQ’ which is most nearest to Coding ninjas?\n",
    "#### Print the name of user ,user rating and review text.\n",
    "### Note :\n",
    "\n",
    "#### Due to limitation of basic API plan it, can only fetch 5 latest review"
   ]
  },
  {
   "cell_type": "code",
   "execution_count": 12,
   "metadata": {},
   "outputs": [
    {
     "name": "stdout",
     "output_type": "stream",
     "text": [
      "Chirag Bansal 5 Beautiful ambiance . Very nice strater and food was very nice yeast wise Service was amazing by Mr Suraj and Ranjeet he was a nice person .\n",
      "Anjali Mishra 3 Food-4 Ambience-3 Hospitality-1 Reason being, I visited the place in the evening..the inside seating area has low lights as it's kinda candle light dinner setup but as there were insects flying around everywhere they switched off the lights & only had candle light! It was good at first but later my friend noticed some insect sitting on her food so we requested them to switch on the lights to which they totally REFUSED and said more insects would come in though the place was totally closed. I said if they don't switch on the lights then we would eating these insects if they sit on our food & we would not notice as they were very tiny. Still the manager refused to switch on the lights & finally I saw a insect sitting in my food.  This was a huge disappointment. The staff (servers I mean) is good but the management is pathetic & not at all cooperative.  You can go for the food but don't keep hopes of any kind of cooperation from their management if anything goes wrong.\n",
      "Sahil Khosla 5 Open roof seating is amazing ... all the server being amazing ....and the food is good too. Special attention to the ambience which is bar none....\n",
      "Anjali Sharma 5 Great food and nice ambience......... Starters were fresh and crispy...... Live music and theme was soothing..... service was good too ...\n",
      "Bhawna Sharma 5 Hi All this is my 2nd visit here in Themis Barbecue and one week, and I am not get surprised why I am back here, I have not one reason I have many.. 1st and the far most is The young singer🎤 Mr Ansh he is such a wonderful singer.. And I request him to sang Rafi Song and trust me he killed it.. You all should come at least once... And staff are very nice and polite, Mr Devashish... Mr Mohan, And of course Mr Tejpal the Manager.. not only that Mr vishnu thapa all are amazing and wonderful... I like to say special thanks to Mr Manoj jee who provide beautiful customer service... I feel little suffocation and he put the fan and that was outstanding.. 5star Mr manoj jee\n"
     ]
    }
   ],
   "source": [
    "import requests\n",
    "h={'user-key':'07adec2c50dd0fe4adee163b0fe1b35a'}\n",
    "response=requests.get('https://developers.zomato.com/api/v2.1/geocode?lat=28.697776&lon=77.1406',\n",
    "                      headers=h,params={'user-key':'07adec2c50dd0fe4adee163b0fe1b35a'})\n",
    "r=response.json()\n",
    "new=r['nearby_restaurants']\n",
    "new=new[1]\n",
    "res_id=new['restaurant']['id']\n",
    "res_id\n",
    "response=requests.get('https://developers.zomato.com/api/v2.1/restaurant?res_id='+res_id,\n",
    "                      headers=h,params={'user-key':'07adec2c50dd0fe4adee163b0fe1b35a'})\n",
    "r=response.json()\n",
    "n=r['all_reviews']['reviews']\n",
    "for i in n:\n",
    "    new_val=i['review']\n",
    "    user_name=new_val['user']['name']\n",
    "    rating=new_val['rating']\n",
    "    text=new_val['review_text']\n",
    "    print(user_name,rating,text)"
   ]
  },
  {
   "cell_type": "code",
   "execution_count": null,
   "metadata": {},
   "outputs": [],
   "source": []
  },
  {
   "cell_type": "markdown",
   "metadata": {},
   "source": [
    "### Zomato distance 3.4\n",
    "\n",
    "#### Experiment with the radius parameter that is present in ‘GET/search’. Fetch the list of top 10 best-restaurant present in a radius of 4 km of coding ninjas.\n",
    "#### Print the restaurant name, user rating, restaurant id and locality in which restaurant is present."
   ]
  },
  {
   "cell_type": "code",
   "execution_count": 13,
   "metadata": {},
   "outputs": [
    {
     "name": "stdout",
     "output_type": "stream",
     "text": [
      "Plum By Bent Chair 4.9 18895645 Aerocity\n",
      "Dragonfly Experience 4.9 18896889 Worldmark 1, Aerocity\n",
      "Chili's Grill & Bar 4.9 4751 Ambience Mall, Vasant Kunj\n",
      "Chili's Grill & Bar 4.9 18607069 Pacific Mall, Tagore Garden\n",
      "Farzi Cafe 4.9 18722480 Aerocity\n",
      "POMP - Pizza On My Plate 4.9 18662565 Greater Kailash 1 (GK1)\n",
      "The Yellow Chilli 4.9 1345 Pacific Mall, Sahibabad\n",
      "Walking Street 4.9 19043958 Sector 29\n",
      "Street 9 Bar & Lounge 4.9 18812732 M Block Market, Greater Kailash 2 (GK2)\n",
      "#BFF 4.9 19075938 Jaipuria Plaza, Sector 26, Noida\n"
     ]
    }
   ],
   "source": [
    "import requests\n",
    "h={'user-key':'07adec2c50dd0fe4adee163b0fe1b35a'}\n",
    "response=requests.get('https://developers.zomato.com/api/v2.1/search?lat=28.697776&lon=77.1406&radius=4000',\n",
    "                      headers=h,params={'user-key':'07adec2c50dd0fe4adee163b0fe1b35a','sort':'rating',\n",
    "                                        'count':10})\n",
    "r=response.json()\n",
    "new=r['restaurants']\n",
    "for i in new:\n",
    "    new_val=i['restaurant']\n",
    "    name=new_val['name']\n",
    "    user_rating=new_val['user_rating']['aggregate_rating']\n",
    "    res_id=new_val['id']\n",
    "    locality=new_val['location']['locality']\n",
    "    print(name,user_rating,res_id,locality)"
   ]
  },
  {
   "cell_type": "code",
   "execution_count": null,
   "metadata": {},
   "outputs": [],
   "source": []
  },
  {
   "cell_type": "code",
   "execution_count": null,
   "metadata": {},
   "outputs": [],
   "source": []
  },
  {
   "cell_type": "code",
   "execution_count": null,
   "metadata": {},
   "outputs": [],
   "source": []
  },
  {
   "cell_type": "code",
   "execution_count": null,
   "metadata": {},
   "outputs": [],
   "source": []
  },
  {
   "cell_type": "code",
   "execution_count": null,
   "metadata": {},
   "outputs": [],
   "source": []
  },
  {
   "cell_type": "code",
   "execution_count": null,
   "metadata": {},
   "outputs": [],
   "source": []
  },
  {
   "cell_type": "code",
   "execution_count": null,
   "metadata": {},
   "outputs": [],
   "source": []
  },
  {
   "cell_type": "code",
   "execution_count": null,
   "metadata": {},
   "outputs": [],
   "source": []
  },
  {
   "cell_type": "code",
   "execution_count": null,
   "metadata": {},
   "outputs": [],
   "source": []
  },
  {
   "cell_type": "code",
   "execution_count": null,
   "metadata": {},
   "outputs": [],
   "source": []
  }
 ],
 "metadata": {
  "kernelspec": {
   "display_name": "Python 3",
   "language": "python",
   "name": "python3"
  },
  "language_info": {
   "codemirror_mode": {
    "name": "ipython",
    "version": 3
   },
   "file_extension": ".py",
   "mimetype": "text/x-python",
   "name": "python",
   "nbconvert_exporter": "python",
   "pygments_lexer": "ipython3",
   "version": "3.7.3"
  }
 },
 "nbformat": 4,
 "nbformat_minor": 2
}
